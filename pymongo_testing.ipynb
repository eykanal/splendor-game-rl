{
 "cells": [
  {
   "cell_type": "code",
   "execution_count": 2,
   "metadata": {},
   "outputs": [],
   "source": [
    "import random\n",
    "import json\n",
    "\n",
    "import pymongo\n",
    "import bson\n",
    "\n",
    "\n",
    "client = pymongo.MongoClient('localhost', 27017)\n",
    "db = client.splendor"
   ]
  },
  {
   "cell_type": "code",
   "execution_count": null,
   "metadata": {},
   "outputs": [],
   "source": [
    "# set up new mongodb install\n",
    "if db.cards.count_documents({}) is 0:\n",
    "    "
   ]
  },
  {
   "cell_type": "code",
   "execution_count": 18,
   "metadata": {},
   "outputs": [],
   "source": [
    "# new game\n",
    "game = db.games.insert_one({\"turns_taken\": 0})\n",
    "game_id = game.inserted_id\n",
    "\n",
    "# get lists from ground truth collections\n",
    "cards_gt = db.cards.find({\"game_id\": {\"$exists\": False}}, {\"_id\": 0})\n",
    "tokens_gt = db.tokens.find({\"game_id\": {\"$exists\": False}}, {\"_id\": 0})\n",
    "tiles_gt = db.tiles.find({\"game_id\": {\"$exists\": False}}, {\"_id\": 0})\n",
    "\n",
    "# re-insert all the cards with a game ID\n",
    "game_cards = [dict(i, game_id=game_id) for i in cards_gt]\n",
    "game_tokens = [dict(i, game_id=game_id) for i in tokens_gt]\n",
    "all_game_tiles = [dict(i, game_id=game_id) for i in tiles_gt]\n",
    "game_tiles = random.sample(all_game_tiles, 4)  # only need four for a game\n",
    "\n",
    "cards = db.cards.insert_many(game_cards)\n",
    "tiles = db.tiles.insert_many(game_tiles)\n",
    "tokens = db.tokens.insert_many(game_tokens)\n",
    "\n",
    "# create players\n",
    "players = db.players.insert_many([{\"game_id\": game_id, \"order\": i} for i in range(3)])"
   ]
  },
  {
   "cell_type": "code",
   "execution_count": 19,
   "metadata": {},
   "outputs": [
    {
     "name": "stdout",
     "output_type": "stream",
     "text": [
      "[ObjectId('5d8aba050e75bca329caed9e')]\n",
      "[ObjectId('5d8aba050e75bca329caed9e')]\n"
     ]
    }
   ],
   "source": [
    "print(db.cards.distinct('game_id'))\n",
    "print(db.games.distinct('_id'))"
   ]
  },
  {
   "cell_type": "code",
   "execution_count": 21,
   "metadata": {},
   "outputs": [
    {
     "data": {
      "text/plain": [
       "<pymongo.results.UpdateResult at 0x109635050>"
      ]
     },
     "execution_count": 21,
     "metadata": {},
     "output_type": "execute_result"
    }
   ],
   "source": [
    "# set number of players\n",
    "player_num = 3\n",
    "\n",
    "# set tokens appropriately\n",
    "if player_num in [2, 3] and db.tokens.count_documents({'game_id': game_id, 'gem': 'onyx'}) > 5:\n",
    "    gems = db.tokens.distinct('gem')\n",
    "    del gems[gems.index('gold')]\n",
    "    for gem in gems:\n",
    "        db.tokens.delete_one({'game_id': game_id, 'gem': gem})\n",
    "        db.tokens.delete_one({'game_id': game_id, 'gem': gem})\n",
    "        if player_num is 3:\n",
    "            db.tokens.delete_one({'game_id': game_id, 'gem': gem})\n",
    "\n",
    "# show four cards\n",
    "cards = list(db.cards.find({\"game_id\": game_id}))\n",
    "show_cards = []\n",
    "for level in db.cards.distinct('level'):\n",
    "    l = list(filter(lambda x: x['level'] == level, cards))\n",
    "    s = random.sample(l, 4)\n",
    "    show_cards.extend(s)\n",
    "db.cards.update_many({\"_id\": {\"$in\": [n[\"_id\"] for n in show_cards]}}, {\"$set\": {\"in_play\": True}})"
   ]
  },
  {
   "cell_type": "code",
   "execution_count": 15,
   "metadata": {},
   "outputs": [],
   "source": [
    "def drop_all_games(db):\n",
    "    db.cards.delete_many({\"game_id\": {\"$exists\": True}})\n",
    "    db.tiles.delete_many({\"game_id\": {\"$exists\": True}})\n",
    "    db.tokens.delete_many({\"game_id\": {\"$exists\": True}})\n",
    "    db.players.delete_many({})\n",
    "    db.games.delete_many({})\n",
    "\n",
    "drop_all_games(db)"
   ]
  },
  {
   "cell_type": "code",
   "execution_count": null,
   "metadata": {},
   "outputs": [],
   "source": []
  }
 ],
 "metadata": {
  "kernelspec": {
   "display_name": "Python 3",
   "language": "python",
   "name": "python3"
  },
  "language_info": {
   "codemirror_mode": {
    "name": "ipython",
    "version": 3
   },
   "file_extension": ".py",
   "mimetype": "text/x-python",
   "name": "python",
   "nbconvert_exporter": "python",
   "pygments_lexer": "ipython3",
   "version": "3.7.4"
  }
 },
 "nbformat": 4,
 "nbformat_minor": 2
}
